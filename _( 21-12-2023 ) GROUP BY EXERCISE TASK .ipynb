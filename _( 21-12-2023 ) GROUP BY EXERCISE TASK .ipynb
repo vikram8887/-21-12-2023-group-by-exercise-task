{
 "cells": [
  {
   "cell_type": "code",
   "execution_count": 2,
   "id": "8e43c276",
   "metadata": {},
   "outputs": [],
   "source": [
    "import matplotlib.pyplot as plt, seaborn as sns, sklearn\n",
    "import pandas as pd\n",
    "import numpy as np"
   ]
  },
  {
   "cell_type": "code",
   "execution_count": 6,
   "id": "063de8c5",
   "metadata": {},
   "outputs": [
    {
     "data": {
      "text/html": [
       "<div>\n",
       "<style scoped>\n",
       "    .dataframe tbody tr th:only-of-type {\n",
       "        vertical-align: middle;\n",
       "    }\n",
       "\n",
       "    .dataframe tbody tr th {\n",
       "        vertical-align: top;\n",
       "    }\n",
       "\n",
       "    .dataframe thead th {\n",
       "        text-align: right;\n",
       "    }\n",
       "</style>\n",
       "<table border=\"1\" class=\"dataframe\">\n",
       "  <thead>\n",
       "    <tr style=\"text-align: right;\">\n",
       "      <th></th>\n",
       "      <th>Unnamed: 0</th>\n",
       "      <th>Date</th>\n",
       "      <th>Product</th>\n",
       "      <th>Revenue</th>\n",
       "      <th>Quantity</th>\n",
       "    </tr>\n",
       "  </thead>\n",
       "  <tbody>\n",
       "    <tr>\n",
       "      <th>0</th>\n",
       "      <td>0</td>\n",
       "      <td>2023-01-01</td>\n",
       "      <td>A</td>\n",
       "      <td>221</td>\n",
       "      <td>3</td>\n",
       "    </tr>\n",
       "    <tr>\n",
       "      <th>1</th>\n",
       "      <td>1</td>\n",
       "      <td>2023-01-01</td>\n",
       "      <td>B</td>\n",
       "      <td>111</td>\n",
       "      <td>8</td>\n",
       "    </tr>\n",
       "    <tr>\n",
       "      <th>2</th>\n",
       "      <td>2</td>\n",
       "      <td>2023-01-02</td>\n",
       "      <td>B</td>\n",
       "      <td>171</td>\n",
       "      <td>11</td>\n",
       "    </tr>\n",
       "    <tr>\n",
       "      <th>3</th>\n",
       "      <td>3</td>\n",
       "      <td>2023-01-02</td>\n",
       "      <td>A</td>\n",
       "      <td>141</td>\n",
       "      <td>15</td>\n",
       "    </tr>\n",
       "    <tr>\n",
       "      <th>4</th>\n",
       "      <td>4</td>\n",
       "      <td>2023-02-01</td>\n",
       "      <td>A</td>\n",
       "      <td>75</td>\n",
       "      <td>4</td>\n",
       "    </tr>\n",
       "    <tr>\n",
       "      <th>5</th>\n",
       "      <td>5</td>\n",
       "      <td>2023-02-01</td>\n",
       "      <td>B</td>\n",
       "      <td>90</td>\n",
       "      <td>12</td>\n",
       "    </tr>\n",
       "    <tr>\n",
       "      <th>6</th>\n",
       "      <td>6</td>\n",
       "      <td>2023-02-02</td>\n",
       "      <td>A</td>\n",
       "      <td>96</td>\n",
       "      <td>17</td>\n",
       "    </tr>\n",
       "    <tr>\n",
       "      <th>7</th>\n",
       "      <td>7</td>\n",
       "      <td>2023-02-02</td>\n",
       "      <td>B</td>\n",
       "      <td>170</td>\n",
       "      <td>10</td>\n",
       "    </tr>\n",
       "    <tr>\n",
       "      <th>8</th>\n",
       "      <td>8</td>\n",
       "      <td>2023-03-01</td>\n",
       "      <td>B</td>\n",
       "      <td>200</td>\n",
       "      <td>19</td>\n",
       "    </tr>\n",
       "    <tr>\n",
       "      <th>9</th>\n",
       "      <td>9</td>\n",
       "      <td>2023-03-01</td>\n",
       "      <td>A</td>\n",
       "      <td>120</td>\n",
       "      <td>10</td>\n",
       "    </tr>\n",
       "    <tr>\n",
       "      <th>10</th>\n",
       "      <td>10</td>\n",
       "      <td>2023-03-02</td>\n",
       "      <td>A</td>\n",
       "      <td>121</td>\n",
       "      <td>12</td>\n",
       "    </tr>\n",
       "    <tr>\n",
       "      <th>11</th>\n",
       "      <td>11</td>\n",
       "      <td>2023-03-02</td>\n",
       "      <td>B</td>\n",
       "      <td>150</td>\n",
       "      <td>5</td>\n",
       "    </tr>\n",
       "  </tbody>\n",
       "</table>\n",
       "</div>"
      ],
      "text/plain": [
       "    Unnamed: 0        Date Product  Revenue  Quantity\n",
       "0            0  2023-01-01       A      221         3\n",
       "1            1  2023-01-01       B      111         8\n",
       "2            2  2023-01-02       B      171        11\n",
       "3            3  2023-01-02       A      141        15\n",
       "4            4  2023-02-01       A       75         4\n",
       "5            5  2023-02-01       B       90        12\n",
       "6            6  2023-02-02       A       96        17\n",
       "7            7  2023-02-02       B      170        10\n",
       "8            8  2023-03-01       B      200        19\n",
       "9            9  2023-03-01       A      120        10\n",
       "10          10  2023-03-02       A      121        12\n",
       "11          11  2023-03-02       B      150         5"
      ]
     },
     "execution_count": 6,
     "metadata": {},
     "output_type": "execute_result"
    }
   ],
   "source": [
    "df=pd.read_csv(r'C:\\Users\\HP\\Downloads\\groupbyExcercise - groupbyExcercise.csv')\n",
    "df"
   ]
  },
  {
   "cell_type": "code",
   "execution_count": 7,
   "id": "e29c92a4",
   "metadata": {},
   "outputs": [
    {
     "data": {
      "text/plain": [
       "Index(['Unnamed: 0', 'Date', 'Product', 'Revenue', 'Quantity'], dtype='object')"
      ]
     },
     "execution_count": 7,
     "metadata": {},
     "output_type": "execute_result"
    }
   ],
   "source": [
    "df.columns"
   ]
  },
  {
   "cell_type": "markdown",
   "id": "a577a85c",
   "metadata": {},
   "source": [
    "1.Arrange DataFrame df, focusing on distinct product categories. Explore the data to reveal:\n",
    "\n",
    "* Overall revenue insights\n",
    "* Average revenue patterns\n",
    "* Peak quantity sold observations\n",
    "* Minimum quantity sold occurrences"
   ]
  },
  {
   "cell_type": "code",
   "execution_count": 8,
   "id": "75934b0f",
   "metadata": {},
   "outputs": [
    {
     "data": {
      "text/plain": [
       "Product\n",
       "A    774\n",
       "B    892\n",
       "Name: Revenue, dtype: int64"
      ]
     },
     "execution_count": 8,
     "metadata": {},
     "output_type": "execute_result"
    }
   ],
   "source": [
    "df.groupby(['Product'])['Revenue'].sum()"
   ]
  },
  {
   "cell_type": "code",
   "execution_count": 9,
   "id": "454cdb04",
   "metadata": {},
   "outputs": [
    {
     "data": {
      "text/plain": [
       "Product\n",
       "A    129.000000\n",
       "B    148.666667\n",
       "Name: Revenue, dtype: float64"
      ]
     },
     "execution_count": 9,
     "metadata": {},
     "output_type": "execute_result"
    }
   ],
   "source": [
    "df.groupby(['Product'])['Revenue'].mean()"
   ]
  },
  {
   "cell_type": "code",
   "execution_count": 13,
   "id": "536ddff2",
   "metadata": {},
   "outputs": [
    {
     "ename": "SyntaxError",
     "evalue": "invalid syntax (1319260632.py, line 1)",
     "output_type": "error",
     "traceback": [
      "\u001b[1;36m  Cell \u001b[1;32mIn[13], line 1\u001b[1;36m\u001b[0m\n\u001b[1;33m    df.groupby(['Product'])['Quantity'].()\u001b[0m\n\u001b[1;37m                                        ^\u001b[0m\n\u001b[1;31mSyntaxError\u001b[0m\u001b[1;31m:\u001b[0m invalid syntax\n"
     ]
    }
   ],
   "source": [
    "df.groupby(['Product'])['Quantity'].()"
   ]
  },
  {
   "cell_type": "code",
   "execution_count": 12,
   "id": "421d1fba",
   "metadata": {},
   "outputs": [
    {
     "data": {
      "text/plain": [
       "Product\n",
       "A    3\n",
       "B    5\n",
       "Name: Quantity, dtype: int64"
      ]
     },
     "execution_count": 12,
     "metadata": {},
     "output_type": "execute_result"
    }
   ],
   "source": [
    "df.groupby(['Product'])['Quantity'].min()"
   ]
  },
  {
   "cell_type": "markdown",
   "id": "c7b8511f",
   "metadata": {},
   "source": [
    "#### 2.Aggregate DataFrame df by extracting the month and year from the 'Date' column. Calculate the collective revenue for each unique combination of month and year."
   ]
  },
  {
   "cell_type": "code",
   "execution_count": 14,
   "id": "f0fa03a8",
   "metadata": {},
   "outputs": [
    {
     "data": {
      "text/html": [
       "<div>\n",
       "<style scoped>\n",
       "    .dataframe tbody tr th:only-of-type {\n",
       "        vertical-align: middle;\n",
       "    }\n",
       "\n",
       "    .dataframe tbody tr th {\n",
       "        vertical-align: top;\n",
       "    }\n",
       "\n",
       "    .dataframe thead th {\n",
       "        text-align: right;\n",
       "    }\n",
       "</style>\n",
       "<table border=\"1\" class=\"dataframe\">\n",
       "  <thead>\n",
       "    <tr style=\"text-align: right;\">\n",
       "      <th></th>\n",
       "      <th>Date</th>\n",
       "      <th>Month</th>\n",
       "      <th>Year</th>\n",
       "    </tr>\n",
       "  </thead>\n",
       "  <tbody>\n",
       "    <tr>\n",
       "      <th>0</th>\n",
       "      <td>2023-01-01</td>\n",
       "      <td>1</td>\n",
       "      <td>2023</td>\n",
       "    </tr>\n",
       "    <tr>\n",
       "      <th>1</th>\n",
       "      <td>2023-01-01</td>\n",
       "      <td>1</td>\n",
       "      <td>2023</td>\n",
       "    </tr>\n",
       "    <tr>\n",
       "      <th>2</th>\n",
       "      <td>2023-01-02</td>\n",
       "      <td>1</td>\n",
       "      <td>2023</td>\n",
       "    </tr>\n",
       "    <tr>\n",
       "      <th>3</th>\n",
       "      <td>2023-01-02</td>\n",
       "      <td>1</td>\n",
       "      <td>2023</td>\n",
       "    </tr>\n",
       "    <tr>\n",
       "      <th>4</th>\n",
       "      <td>2023-02-01</td>\n",
       "      <td>2</td>\n",
       "      <td>2023</td>\n",
       "    </tr>\n",
       "    <tr>\n",
       "      <th>5</th>\n",
       "      <td>2023-02-01</td>\n",
       "      <td>2</td>\n",
       "      <td>2023</td>\n",
       "    </tr>\n",
       "    <tr>\n",
       "      <th>6</th>\n",
       "      <td>2023-02-02</td>\n",
       "      <td>2</td>\n",
       "      <td>2023</td>\n",
       "    </tr>\n",
       "    <tr>\n",
       "      <th>7</th>\n",
       "      <td>2023-02-02</td>\n",
       "      <td>2</td>\n",
       "      <td>2023</td>\n",
       "    </tr>\n",
       "    <tr>\n",
       "      <th>8</th>\n",
       "      <td>2023-03-01</td>\n",
       "      <td>3</td>\n",
       "      <td>2023</td>\n",
       "    </tr>\n",
       "    <tr>\n",
       "      <th>9</th>\n",
       "      <td>2023-03-01</td>\n",
       "      <td>3</td>\n",
       "      <td>2023</td>\n",
       "    </tr>\n",
       "    <tr>\n",
       "      <th>10</th>\n",
       "      <td>2023-03-02</td>\n",
       "      <td>3</td>\n",
       "      <td>2023</td>\n",
       "    </tr>\n",
       "    <tr>\n",
       "      <th>11</th>\n",
       "      <td>2023-03-02</td>\n",
       "      <td>3</td>\n",
       "      <td>2023</td>\n",
       "    </tr>\n",
       "  </tbody>\n",
       "</table>\n",
       "</div>"
      ],
      "text/plain": [
       "         Date  Month  Year\n",
       "0  2023-01-01      1  2023\n",
       "1  2023-01-01      1  2023\n",
       "2  2023-01-02      1  2023\n",
       "3  2023-01-02      1  2023\n",
       "4  2023-02-01      2  2023\n",
       "5  2023-02-01      2  2023\n",
       "6  2023-02-02      2  2023\n",
       "7  2023-02-02      2  2023\n",
       "8  2023-03-01      3  2023\n",
       "9  2023-03-01      3  2023\n",
       "10 2023-03-02      3  2023\n",
       "11 2023-03-02      3  2023"
      ]
     },
     "execution_count": 14,
     "metadata": {},
     "output_type": "execute_result"
    }
   ],
   "source": [
    "df['Date'] = pd.to_datetime(df['Date'])\n",
    "df['Month'] = df['Date'].dt.month\n",
    "df['Year'] = df['Date'].dt.year\n",
    "df[['Date','Month','Year']]"
   ]
  },
  {
   "cell_type": "code",
   "execution_count": 15,
   "id": "035c5543",
   "metadata": {},
   "outputs": [
    {
     "data": {
      "text/plain": [
       "Month  Year\n",
       "1      2023    644\n",
       "2      2023    431\n",
       "3      2023    591\n",
       "Name: Revenue, dtype: int64"
      ]
     },
     "execution_count": 15,
     "metadata": {},
     "output_type": "execute_result"
    }
   ],
   "source": [
    "df.groupby(['Month', 'Year'])['Revenue'].sum()"
   ]
  },
  {
   "cell_type": "markdown",
   "id": "f6efe08d",
   "metadata": {},
   "source": [
    "##### 3.Group the DataFrame df by the 'Date' column and find the date with the highest total revenue and the date with the highest total quantity sold."
   ]
  },
  {
   "cell_type": "code",
   "execution_count": 16,
   "id": "fdeba72d",
   "metadata": {},
   "outputs": [
    {
     "data": {
      "text/html": [
       "<div>\n",
       "<style scoped>\n",
       "    .dataframe tbody tr th:only-of-type {\n",
       "        vertical-align: middle;\n",
       "    }\n",
       "\n",
       "    .dataframe tbody tr th {\n",
       "        vertical-align: top;\n",
       "    }\n",
       "\n",
       "    .dataframe thead th {\n",
       "        text-align: right;\n",
       "    }\n",
       "</style>\n",
       "<table border=\"1\" class=\"dataframe\">\n",
       "  <thead>\n",
       "    <tr style=\"text-align: right;\">\n",
       "      <th></th>\n",
       "      <th>Revenue</th>\n",
       "      <th>Quantity</th>\n",
       "    </tr>\n",
       "    <tr>\n",
       "      <th>Date</th>\n",
       "      <th></th>\n",
       "      <th></th>\n",
       "    </tr>\n",
       "  </thead>\n",
       "  <tbody>\n",
       "    <tr>\n",
       "      <th>2023-01-01</th>\n",
       "      <td>332</td>\n",
       "      <td>11</td>\n",
       "    </tr>\n",
       "    <tr>\n",
       "      <th>2023-01-02</th>\n",
       "      <td>312</td>\n",
       "      <td>26</td>\n",
       "    </tr>\n",
       "    <tr>\n",
       "      <th>2023-02-01</th>\n",
       "      <td>165</td>\n",
       "      <td>16</td>\n",
       "    </tr>\n",
       "    <tr>\n",
       "      <th>2023-02-02</th>\n",
       "      <td>266</td>\n",
       "      <td>27</td>\n",
       "    </tr>\n",
       "    <tr>\n",
       "      <th>2023-03-01</th>\n",
       "      <td>320</td>\n",
       "      <td>29</td>\n",
       "    </tr>\n",
       "    <tr>\n",
       "      <th>2023-03-02</th>\n",
       "      <td>271</td>\n",
       "      <td>17</td>\n",
       "    </tr>\n",
       "  </tbody>\n",
       "</table>\n",
       "</div>"
      ],
      "text/plain": [
       "            Revenue  Quantity\n",
       "Date                         \n",
       "2023-01-01      332        11\n",
       "2023-01-02      312        26\n",
       "2023-02-01      165        16\n",
       "2023-02-02      266        27\n",
       "2023-03-01      320        29\n",
       "2023-03-02      271        17"
      ]
     },
     "execution_count": 16,
     "metadata": {},
     "output_type": "execute_result"
    }
   ],
   "source": [
    "df.groupby(['Date'])[['Revenue', 'Quantity']].sum()"
   ]
  },
  {
   "cell_type": "markdown",
   "id": "795e4bd9",
   "metadata": {},
   "source": [
    "##### 4.Group the DataFrame df by the Dateand find products that have a total quantity sold greater than 10 and less than 15 ."
   ]
  },
  {
   "cell_type": "code",
   "execution_count": 17,
   "id": "4b48a3b5",
   "metadata": {},
   "outputs": [
    {
     "name": "stdout",
     "output_type": "stream",
     "text": [
      "         Date Product  Quantity\n",
      "3  2023-01-02       B        11\n",
      "5  2023-02-01       B        12\n",
      "10 2023-03-02       A        12\n"
     ]
    }
   ],
   "source": [
    "x = df.groupby(['Date', 'Product'])['Quantity'].sum().reset_index()\n",
    "y = x[(x['Quantity'] > 10) & (x['Quantity'] < 15)]\n",
    "print(y)"
   ]
  },
  {
   "cell_type": "markdown",
   "id": "07121f61",
   "metadata": {},
   "source": [
    "##### 5.Group the DataFrame df by the 'Product' column andadd a new column 'Revenue Percentage' that shows the percentage of each product's revenue relative to the total revenue for that product."
   ]
  },
  {
   "cell_type": "code",
   "execution_count": 18,
   "id": "882bf1d5",
   "metadata": {},
   "outputs": [
    {
     "name": "stdout",
     "output_type": "stream",
     "text": [
      "    Unnamed: 0       Date Product  Revenue  Quantity  Month  Year  \\\n",
      "0            0 2023-01-01       A      221         3      1  2023   \n",
      "1            1 2023-01-01       B      111         8      1  2023   \n",
      "2            2 2023-01-02       B      171        11      1  2023   \n",
      "3            3 2023-01-02       A      141        15      1  2023   \n",
      "4            4 2023-02-01       A       75         4      2  2023   \n",
      "5            5 2023-02-01       B       90        12      2  2023   \n",
      "6            6 2023-02-02       A       96        17      2  2023   \n",
      "7            7 2023-02-02       B      170        10      2  2023   \n",
      "8            8 2023-03-01       B      200        19      3  2023   \n",
      "9            9 2023-03-01       A      120        10      3  2023   \n",
      "10          10 2023-03-02       A      121        12      3  2023   \n",
      "11          11 2023-03-02       B      150         5      3  2023   \n",
      "\n",
      "    Revenue Percentage  \n",
      "0            46.458583  \n",
      "1            53.541417  \n",
      "2            53.541417  \n",
      "3            46.458583  \n",
      "4            46.458583  \n",
      "5            53.541417  \n",
      "6            46.458583  \n",
      "7            53.541417  \n",
      "8            53.541417  \n",
      "9            46.458583  \n",
      "10           46.458583  \n",
      "11           53.541417  \n"
     ]
    }
   ],
   "source": [
    "x = df.groupby('Product')['Revenue'].sum()\n",
    "y = x / x.sum() * 100\n",
    "df['Revenue Percentage'] = df['Product'].map(y)\n",
    "print(df)"
   ]
  },
  {
   "cell_type": "code",
   "execution_count": null,
   "id": "f9aacd88",
   "metadata": {},
   "outputs": [],
   "source": []
  }
 ],
 "metadata": {
  "kernelspec": {
   "display_name": "Python 3 (ipykernel)",
   "language": "python",
   "name": "python3"
  },
  "language_info": {
   "codemirror_mode": {
    "name": "ipython",
    "version": 3
   },
   "file_extension": ".py",
   "mimetype": "text/x-python",
   "name": "python",
   "nbconvert_exporter": "python",
   "pygments_lexer": "ipython3",
   "version": "3.11.5"
  }
 },
 "nbformat": 4,
 "nbformat_minor": 5
}
